{
 "cells": [
  {
   "cell_type": "code",
   "execution_count": 118,
   "id": "2c609fa4",
   "metadata": {},
   "outputs": [
    {
     "name": "stdout",
     "output_type": "stream",
     "text": [
      "3.9.7\n"
     ]
    }
   ],
   "source": [
    "from platform import python_version\n",
    "\n",
    "print(python_version())"
   ]
  },
  {
   "cell_type": "code",
   "execution_count": 119,
   "id": "db20428f",
   "metadata": {},
   "outputs": [
    {
     "data": {
      "text/html": [
       "<style>.container { width:88% !important; }</style>"
      ],
      "text/plain": [
       "<IPython.core.display.HTML object>"
      ]
     },
     "metadata": {},
     "output_type": "display_data"
    }
   ],
   "source": [
    "from IPython.display import display, HTML\n",
    "display(HTML(\"<style>.container { width:88% !important; }</style>\"))"
   ]
  },
  {
   "cell_type": "markdown",
   "id": "a44f3b54",
   "metadata": {},
   "source": [
    "# Некоторые заметки по алгоритмам\n",
    "\n",
    "<blockquote>Отличная книга Адитья Бхаргава _\"Грокаем Алгоритмы\"_</blockquote>\n"
   ]
  },
  {
   "cell_type": "markdown",
   "id": "26f2a11e",
   "metadata": {},
   "source": [
    "## Сортировки"
   ]
  },
  {
   "cell_type": "markdown",
   "id": "3a416dbb",
   "metadata": {},
   "source": [
    "### Бинарный поиск (нахождение индекса элемента в массиве)\n",
    "\n",
    "- время работы: линейное $O(logn)$\n",
    "- работает только в отсортированом массиве\n",
    "\n",
    "\n",
    "Так, например, в игре с загадыванием числа от 1 до 100, можно выиграть не более чем за 7 ($ \\approx log_2(100)$) шагов\n",
    "\n",
    "Суть заключается в разделении массива на 2 части и рассматрением загаданного числа с медианой."
   ]
  },
  {
   "cell_type": "code",
   "execution_count": 120,
   "id": "85f94749",
   "metadata": {},
   "outputs": [],
   "source": [
    "def binary_search(arr, item):\n",
    "\n",
    "    low = 0\n",
    "    high = len(arr) - 1\n",
    "    \n",
    "    while low <= high:\n",
    "\n",
    "        mid = (low + high) // 2\n",
    "        guess = arr[mid]\n",
    "\n",
    "        if guess == item:\n",
    "            return mid\n",
    "\n",
    "        if guess > item:\n",
    "            high = mid - 1\n",
    "\n",
    "        else:\n",
    "            low = mid + 1\n",
    "\n",
    "\n",
    "    return None"
   ]
  },
  {
   "cell_type": "code",
   "execution_count": 121,
   "id": "14cdd459",
   "metadata": {},
   "outputs": [
    {
     "data": {
      "text/plain": [
       "10"
      ]
     },
     "execution_count": 121,
     "metadata": {},
     "output_type": "execute_result"
    }
   ],
   "source": [
    "myList = [0, 1, 2, 3, 4, 5, 6, 7, 8, 9, 10, 11, 12, 13, 14, 15]\n",
    "item   = 10\n",
    "\n",
    "binary_search(myList, item)"
   ]
  },
  {
   "cell_type": "markdown",
   "id": "ab6f052e",
   "metadata": {},
   "source": [
    "### Sort-selection"
   ]
  },
  {
   "cell_type": "markdown",
   "id": "502d67c7",
   "metadata": {},
   "source": [
    "- время работы: $O(n^2)$"
   ]
  },
  {
   "cell_type": "code",
   "execution_count": 122,
   "id": "9cac4269",
   "metadata": {},
   "outputs": [],
   "source": [
    "def findSmallest(arr):\n",
    "\n",
    "    smallest = arr[0]\n",
    "\n",
    "    smallest_index = 0\n",
    "    for i in range(1, len(arr)):\n",
    "        if arr[i] < smallest:\n",
    "            smallest_index = i\n",
    "            smallest = arr[i]      \n",
    "    return smallest_index\n",
    "\n",
    "\n",
    "def selectionSort(arr):\n",
    "    newArr = []\n",
    "    for i in range(len(arr)):\n",
    "\n",
    "        smallest = findSmallest(arr)\n",
    "        newArr.append(arr.pop(smallest))\n",
    "    return newArr"
   ]
  },
  {
   "cell_type": "code",
   "execution_count": 123,
   "id": "628da294",
   "metadata": {},
   "outputs": [
    {
     "name": "stdout",
     "output_type": "stream",
     "text": [
      "[2, 3, 5, 6, 10]\n"
     ]
    }
   ],
   "source": [
    "print(selectionSort([5, 3, 6, 2, 10]))"
   ]
  },
  {
   "cell_type": "markdown",
   "id": "35eb1df7",
   "metadata": {},
   "source": [
    "### Merge-sort"
   ]
  },
  {
   "cell_type": "markdown",
   "id": "e181032f",
   "metadata": {},
   "source": [
    "- в отличие от остальных алгоритмов, это требет значительное кол-во доп памяти (мы вообщее то делаем целиковую копию исходного массива)\n",
    "- вермя работы: $O(nlogn)$ \n",
    "- доп память: $O(n)$"
   ]
  },
  {
   "cell_type": "code",
   "execution_count": 126,
   "id": "e4f9cc6d",
   "metadata": {},
   "outputs": [],
   "source": [
    "def merge_two_list (a, b):\n",
    "    \n",
    "    c = []\n",
    "    i = j = 0\n",
    "    while (i < len(a) and j < len(b)):\n",
    "        if(a[i] < b[j]): \n",
    "            c.append(a[i])\n",
    "            i += 1\n",
    "        else:\n",
    "            c.append(b[j])\n",
    "            j += 1\n",
    "    if i <len(a):\n",
    "        c += a[i:]\n",
    "    if j< len(b):\n",
    "        c += b[j:]\n",
    "    return c\n",
    "    \n",
    "def merge_sort (A):\n",
    "    if len(A) == 1: return A\n",
    "    \n",
    "    mid = len(A) // 2\n",
    "    left = merge_sort(A[:mid])\n",
    "    right = merge_sort(A[mid:])\n",
    "    return(merge_two_list(left, right))"
   ]
  },
  {
   "cell_type": "code",
   "execution_count": 127,
   "id": "aea6baeb",
   "metadata": {},
   "outputs": [
    {
     "data": {
      "text/plain": [
       "[1, 2, 4, 5, 7, 8, 10]"
      ]
     },
     "execution_count": 127,
     "metadata": {},
     "output_type": "execute_result"
    }
   ],
   "source": [
    "arr = [1, 5, 8, 2, 10, 4, 7]\n",
    "merge_sort(arr)"
   ]
  },
  {
   "cell_type": "markdown",
   "id": "35751fcd",
   "metadata": {},
   "source": [
    "### Quick-sort"
   ]
  },
  {
   "cell_type": "markdown",
   "id": "6cb41d13",
   "metadata": {},
   "source": [
    "- время работы: в худшем случае $O(n^2)$, в лучшем и среднем $O(nlog(n))$ - главное выбирать опорный элемент рандомно (и будет матожиданием работы алгоритма)"
   ]
  },
  {
   "cell_type": "code",
   "execution_count": 128,
   "id": "5ccee6f4",
   "metadata": {},
   "outputs": [],
   "source": [
    "def quicksort(array):\n",
    "    \n",
    "    if len(array) < 2:\n",
    "        return array\n",
    "\n",
    "    else:\n",
    "        pivot = array[0]\n",
    "        less = [i for i in array[1:] if i <= pivot]\n",
    "        greater = [i for i in array[1:] if i > pivot]\n",
    "        return quicksort(less) + [pivot] + quicksort(greater)"
   ]
  },
  {
   "cell_type": "code",
   "execution_count": 129,
   "id": "a465d099",
   "metadata": {},
   "outputs": [
    {
     "name": "stdout",
     "output_type": "stream",
     "text": [
      "[2, 3, 5, 10]\n"
     ]
    }
   ],
   "source": [
    "print(quicksort([10, 5, 2, 3]))"
   ]
  }
 ],
 "metadata": {
  "kernelspec": {
   "display_name": "Python 3 (ipykernel)",
   "language": "python",
   "name": "python3"
  },
  "language_info": {
   "codemirror_mode": {
    "name": "ipython",
    "version": 3
   },
   "file_extension": ".py",
   "mimetype": "text/x-python",
   "name": "python",
   "nbconvert_exporter": "python",
   "pygments_lexer": "ipython3",
   "version": "3.9.7"
  }
 },
 "nbformat": 4,
 "nbformat_minor": 5
}
