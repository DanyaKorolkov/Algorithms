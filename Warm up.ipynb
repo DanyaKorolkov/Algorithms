{
 "cells": [
  {
   "attachments": {},
   "cell_type": "markdown",
   "metadata": {},
   "source": [
    "### Задача 1"
   ]
  },
  {
   "cell_type": "code",
   "execution_count": 208,
   "metadata": {},
   "outputs": [
    {
     "name": "stdout",
     "output_type": "stream",
     "text": [
      "         #              \n",
      "         #              \n",
      "         #              \n",
      "         #              \n",
      "         #              \n",
      "         #         #    \n",
      "         #  #      #    \n",
      "      #  # ###  ####    \n",
      "      ## ###### ####    \n",
      "      ##############    \n",
      "      ##############  ##\n",
      "#  #  ############## ###\n",
      "########################\n",
      ",.;ADTabdeghilmnorstuvwy\n"
     ]
    }
   ],
   "source": [
    "with open(\"input.txt\", \"r\") as file:\n",
    "    inp = file.read().replace(' ', '').replace('\\n', '')\n",
    "\n",
    "symbols = {}\n",
    "\n",
    "for s in inp:\n",
    "    if s not in symbols:\n",
    "        symbols[s] = 0\n",
    "    else:\n",
    "        symbols[s] += 1\n",
    "\n",
    "symbols = dict(sorted(symbols.items()))\n",
    "cur_max = max(symbols.values())\n",
    "\n",
    "while cur_max >= 0:\n",
    "\n",
    "    output = []\n",
    "\n",
    "    for elem in symbols.items():\n",
    "\n",
    "        if elem[1] < cur_max:\n",
    "            output.append(' ')\n",
    "        elif elem[1] == cur_max:\n",
    "            output.append('#')\n",
    "            symbols[elem[0]] -= 1\n",
    "    \n",
    "    for i, s in enumerate(output):\n",
    "        if i+1 != len(output):\n",
    "            print(s, end = '')\n",
    "        else:\n",
    "            print(s)\n",
    "    cur_max -= 1\n",
    "\n",
    "print(*symbols.keys(), sep ='')"
   ]
  },
  {
   "cell_type": "markdown",
   "metadata": {},
   "source": [
    "### Задача 2"
   ]
  },
  {
   "cell_type": "code",
   "execution_count": 61,
   "metadata": {},
   "outputs": [
    {
     "name": "stdout",
     "output_type": "stream",
     "text": [
      "6\n"
     ]
    }
   ],
   "source": [
    "# k = int(input())\n",
    "# word = input()\n",
    "\n",
    "k = 2\n",
    "word = \"abababaabb\"\n",
    "\n",
    "letters = dict(\n",
    "                zip( set(word), [0]*(len(set(word))) )\n",
    "            )\n",
    "\n",
    "if len(word) <= k + 1:\n",
    "    print(len(word))\n",
    "\n",
    "else:\n",
    "    for let in letters.keys():\n",
    "\n",
    "        # print(let)\n",
    "        R = 0\n",
    "        L = 0\n",
    "        cnt = 0\n",
    "\n",
    "        cur_max = 0\n",
    "\n",
    "        while ( R != len(word) ):\n",
    "\n",
    "            # print(f'\\t{L = }, {R = }, {word[R] = }')\n",
    "\n",
    "            if R - L > cur_max:\n",
    "                cur_max = R - L\n",
    "\n",
    "\n",
    "            if cnt < k:\n",
    "\n",
    "                if word[R] != let:\n",
    "                    cnt += 1\n",
    "                    \n",
    "                R += 1\n",
    "    \n",
    "            elif cnt == k:\n",
    "\n",
    "                if word[R] != let:\n",
    "                    if word[L] != let:\n",
    "                        cnt -= 1\n",
    "                    L += 1\n",
    "                elif word[R] == let:\n",
    "                    R += 1\n",
    "\n",
    "\n",
    "\n",
    "            # print(f'\\tПОСЛЕ СДВИГА: {R - L = }, {cur_max = }')\n",
    "            # print(f'\\t{cnt = }')\n",
    "\n",
    "        # print(f'{R - L = }')\n",
    "        # print(f'{cur_max = }')\n",
    "        letters[let] = cur_max\n",
    "            \n",
    "    print(max(letters.values()))"
   ]
  },
  {
   "attachments": {},
   "cell_type": "markdown",
   "metadata": {},
   "source": [
    "### Задача 3"
   ]
  },
  {
   "cell_type": "code",
   "execution_count": 80,
   "metadata": {},
   "outputs": [
    {
     "name": "stdout",
     "output_type": "stream",
     "text": [
      "2\n"
     ]
    }
   ],
   "source": [
    "N = int(input())\n",
    "\n",
    "if N!= 0:\n",
    "    stickers = sorted(list(set((map(int, input().split(sep = ' '))))))\n",
    "\n",
    "K = int(input())\n",
    "\n",
    "if K != 0:\n",
    "    nums = list(map(int, input().split(sep = ' ')))\n",
    "    if N == 0:\n",
    "        stickers = [max(nums)]\n",
    "else:\n",
    "    nums = []\n",
    "\n",
    "for num in nums:\n",
    "\n",
    "    l = -1\n",
    "    r = len(stickers)\n",
    "    m = int((l + r)/2)\n",
    "\n",
    "    while r - l > 1:\n",
    "        m = int((l + r)/ 2)\n",
    "        if stickers[m] >= num:\n",
    "            r = m\n",
    "        elif stickers[m] < num:\n",
    "            l =  m\n",
    "\n",
    "    \n",
    "    if stickers[m] < num:\n",
    "        print(m + 1)\n",
    "    elif stickers[m] >= num:\n",
    "        print(m)\n"
   ]
  },
  {
   "attachments": {},
   "cell_type": "markdown",
   "metadata": {},
   "source": [
    "### Задача 4"
   ]
  },
  {
   "cell_type": "code",
   "execution_count": 119,
   "metadata": {},
   "outputs": [
    {
     "name": "stdout",
     "output_type": "stream",
     "text": [
      "-1\n"
     ]
    }
   ],
   "source": [
    "N = int(input())\n",
    "K = int(input())\n",
    "\n",
    "row = int(input())\n",
    "pos = int(input())\n",
    "\n",
    "first = row * 2 - pos%2\n",
    "\n",
    "# Можем ли мы сесть правее?\n",
    "right = first + K\n",
    "\n",
    "if right <= N:\n",
    "    right_row = (right + 1) // 2\n",
    "    right_pos = 2 - right % 2\n",
    "else:\n",
    "    right_row = -1\n",
    "    right_pos = -1\n",
    "\n",
    "left = first - K\n",
    "\n",
    " # Можем ли мы сесть левее?\n",
    "if left > 0:\n",
    "    left_row = (left + 1) // 2\n",
    "    left_pos = 2 - left % 2\n",
    "\n",
    "    if right_row != -1:\n",
    "        if right_row - row <= row - left_row:\n",
    "            print(right_row)\n",
    "            print(right_pos)\n",
    "        else:\n",
    "            print(left_row)\n",
    "            print(left_pos)\n",
    "    else:\n",
    "        print(left_row)\n",
    "        print(left_pos)\n",
    "\n",
    "else:\n",
    "    if right_row != -1:\n",
    "        print(right_row)\n",
    "        print(right_pos)\n",
    "    else:\n",
    "        print(-1)"
   ]
  },
  {
   "attachments": {},
   "cell_type": "markdown",
   "metadata": {},
   "source": [
    "### Задача 5"
   ]
  },
  {
   "cell_type": "markdown",
   "metadata": {},
   "source": [
    "На день рождения маленький Ипполит получил долгожданный подарок — набор дощечек с написанными на них буквами латинского алфавита. Теперь-то ему будет чем заняться долгими вечерами, тем более что мама обещала подарить ему в следующем году последовательность целых неотрицательных чисел, если он хорошо освоит этот набор. Ради такого богатства Ипполит готов на многое.\n",
    "Прямо сейчас юный исследователь полностью поглощён изучением хорошести строк. Хорошестью строки называется количество позиций от 1 до L - 1 (где L — длина строки), таких, что следующая буква в строке является следующей по алфавиту. Например, хорошесть строки \"abcdefghijklmnopqrstuvwxyz\" равна 25, а строки \"abdc\" — только 1.\n",
    "Ипполит размышляет над решением закономерно возникающей задачи: чему равна максимально возможная хорошесть строки, которую можно собрать, используя дощечки из данного набора? Вы-то и поможете ему с ней справиться."
   ]
  },
  {
   "cell_type": "code",
   "execution_count": 74,
   "metadata": {},
   "outputs": [
    {
     "name": "stdout",
     "output_type": "stream",
     "text": [
      "3\n"
     ]
    }
   ],
   "source": [
    "N = int(input())\n",
    "tmp = 0\n",
    "\n",
    "last_word = 0\n",
    "\n",
    "for _ in range(N):\n",
    "\n",
    "    cur_word = int(input())\n",
    "\n",
    "    tmp += min(last_word, cur_word)\n",
    "\n",
    "    last_word = cur_word\n",
    "\n",
    "print(tmp)"
   ]
  },
  {
   "attachments": {},
   "cell_type": "markdown",
   "metadata": {},
   "source": [
    "### Задача 6"
   ]
  },
  {
   "cell_type": "code",
   "execution_count": 72,
   "metadata": {},
   "outputs": [
    {
     "name": "stdout",
     "output_type": "stream",
     "text": [
      "1\n"
     ]
    }
   ],
   "source": [
    "M = int(input())\n",
    "N = int(input())\n",
    "\n",
    "lst = []\n",
    "\n",
    "for i in range(N):\n",
    "\n",
    "    inp = list(map(int, input().split(sep = ' ')))\n",
    "\n",
    "    for elem in lst:\n",
    "\n",
    "        if elem[2] == 1:\n",
    "\n",
    "            if inp[0] <= elem[1] and inp[1] >= elem[0]:\n",
    "                elem[2] = 0\n",
    "\n",
    "    lst.append([inp[0], inp[1], 1])\n",
    "\n",
    "counter = 0\n",
    "\n",
    "for elem in lst:\n",
    "    counter += elem[2]\n",
    "\n",
    "print( counter )"
   ]
  },
  {
   "attachments": {},
   "cell_type": "markdown",
   "metadata": {},
   "source": [
    "### Задача 7"
   ]
  },
  {
   "cell_type": "code",
   "execution_count": 64,
   "metadata": {},
   "outputs": [
    {
     "name": "stdout",
     "output_type": "stream",
     "text": [
      "10:05:40\n"
     ]
    }
   ],
   "source": [
    "start_time = list(map(int, input().split(sep = ':')))\n",
    "server_time = list(map(int, input().split(sep = ':')))\n",
    "end_time = list(map(int, input().split(sep = ':')))\n",
    "\n",
    "start_time_hours, start_time_minutes, start_time_seconds = start_time[0], start_time[1], start_time[2]\n",
    "server_time_seconds = server_time[0] * 60 * 60 + server_time[1] * 60 + server_time[2]\n",
    "end_time_hours, end_time_minutes, end_time_seconds = end_time[0], end_time[1], end_time[2]\n",
    "\n",
    "# если мы перескочили день\n",
    "if start_time_hours > end_time_hours:\n",
    "\n",
    "\n",
    "    second_till_end = 60 - start_time_seconds\n",
    "    minutes_till_end = 60 - start_time_minutes - 1\n",
    "    hours_till_end = 24 - start_time_hours - 1\n",
    "\n",
    "    time_delta = (end_time_seconds + second_till_end) + 60 * (end_time_minutes + minutes_till_end) + 60 * 60 * (end_time_hours + hours_till_end)\n",
    "\n",
    "    half = (time_delta + 1)// 2\n",
    "\n",
    "    ans2sec = (server_time_seconds + half) % (60*60*24)\n",
    "\n",
    "    ans_seconds = ans2sec % 60\n",
    "    ans_minutes = (ans2sec // 60) % 60\n",
    "    ans_hours = (ans2sec // (60 * 60) ) % 60\n",
    "\n",
    "    print(f'{ans_hours:02}:{ans_minutes:02}:{ans_seconds:02}')\n",
    "\n",
    "else:\n",
    "\n",
    "\n",
    "    start2sec = start_time_hours * 60 * 60 + start_time_minutes * 60 + start_time_seconds\n",
    "    end2sec = end_time_hours * 60 * 60 + end_time_minutes * 60 + end_time_seconds\n",
    "\n",
    "    time_delta = end2sec - start2sec\n",
    "\n",
    "    half = ( time_delta + 1 ) // 2\n",
    "\n",
    "    ans2sec = ( server_time_seconds + half ) % (60*60*24)\n",
    "\n",
    "    ans_seconds = ans2sec % 60\n",
    "    ans_minutes = (ans2sec // 60) % 60\n",
    "    ans_hours = (ans2sec // (60 * 60) ) % 60\n",
    "\n",
    "    print(f'{ans_hours:02}:{ans_minutes:02}:{ans_seconds:02}')"
   ]
  },
  {
   "attachments": {},
   "cell_type": "markdown",
   "metadata": {},
   "source": [
    "### Задача 9"
   ]
  },
  {
   "cell_type": "code",
   "execution_count": 12,
   "metadata": {},
   "outputs": [
    {
     "name": "stdout",
     "output_type": "stream",
     "text": [
      "28\n",
      "21\n"
     ]
    }
   ],
   "source": [
    "inp = input().split(sep = ' ')\n",
    "N = int(inp[0])\n",
    "M = int(inp[1])\n",
    "K = int(inp[2])\n",
    "\n",
    "print\n",
    "\n",
    "matr = []\n",
    "\n",
    "for n in range (N):\n",
    "\n",
    "    inp = input().split(sep = ' ')\n",
    "\n",
    "    tmp = 0\n",
    "    \n",
    "    for m in range(M):\n",
    "\n",
    "        elem = int(inp[m])\n",
    "\n",
    "        if n == 0:\n",
    "            tmp += elem\n",
    "            matr.append(tmp)\n",
    "        \n",
    "        else:\n",
    "            if m == 0:\n",
    "                tmp += matr[-M]\n",
    "                matr.append(elem + tmp)\n",
    "            else:\n",
    "                tmp = matr[-1] + matr[-M] - matr[-1-M] + elem\n",
    "                matr.append(tmp)\n",
    "\n",
    "for _ in range(K):\n",
    "\n",
    "    inp = input().split(sep = ' ')\n",
    "    x2 = int(inp[0])\n",
    "    y2 = int(inp[1])\n",
    "\n",
    "    x1 = int(inp[2])\n",
    "    y1 = int(inp[3])\n",
    "\n",
    "    ans = 0\n",
    "\n",
    "    idx = (x1 - 1) * M + (y1 - 1)\n",
    "    ans += matr[idx]\n",
    "\n",
    "\n",
    "    if y2 - 1 != 0:\n",
    "        idx = (x1 - 1) * M + (y2 - 1 - 1)\n",
    "        ans -= matr[idx]\n",
    "\n",
    "\n",
    "    if x2 - 1 != 0:\n",
    "        idx = (x2 - 1 - 1) * M + (y1 - 1)\n",
    "        ans -= matr[idx]\n",
    "\n",
    "\n",
    "    if (x2 - 1 != 0) & (y2 - 1 != 0):\n",
    "        idx = (x2 - 1 - 1) * M + (y2 - 1 - 1)\n",
    "        ans += matr[idx]\n",
    "\n",
    "\n",
    "    print(ans)"
   ]
  },
  {
   "attachments": {},
   "cell_type": "markdown",
   "metadata": {},
   "source": [
    "### Задача 10"
   ]
  },
  {
   "attachments": {},
   "cell_type": "markdown",
   "metadata": {},
   "source": [
    "Лёша сидел на лекции. Ему было невероятно скучно. Голос лектора казался таким далеким и незаметным...\n",
    "Чтобы окончательно не уснуть, он взял листок и написал на нём свое любимое слово. Чуть ниже он повторил своё любимое слово, без первой буквы. Ещё ниже он снова написал своё любимое слово, но в этот раз без двух первых и последней буквы.\n",
    "Тут ему пришла в голову мысль — времени до конца лекции все равно ещё очень много, почему бы не продолжить выписывать всеми возможными способами это слово без какой-то части с начала и какой-то части с конца?\n",
    "После лекции Лёша рассказал Максу, как замечательно он скоротал время. Максу стало интересно посчитать, сколько букв каждого вида встречается у Лёши в листочке. Но к сожалению, сам листочек куда-то запропастился.\n",
    "Макс хорошо знает любимое слово Лёши, а ещё у него не так много свободного времени, как у его друга, так что помогите ему быстро восстановить, сколько раз Лёше пришлось выписать каждую букву."
   ]
  },
  {
   "cell_type": "code",
   "execution_count": 93,
   "metadata": {},
   "outputs": [
    {
     "name": "stdout",
     "output_type": "stream",
     "text": [
      "h: 5\n",
      "e: 8\n",
      "l: 17\n",
      "o: 5\n"
     ]
    }
   ],
   "source": [
    "inp = input()\n",
    "\n",
    "dict_words = {}\n",
    "\n",
    "for i in range(len(inp)):\n",
    "\n",
    "    tmp = (i + 1) * (len(inp) - i)\n",
    "\n",
    "    if inp[i] in dict_words:\n",
    "        dict_words[inp[i]] += tmp\n",
    "    \n",
    "    else:\n",
    "        dict_words[inp[i]] = tmp\n",
    "        \n",
    "for elem in sorted(dict_words.items()):\n",
    "    print(f'{elem[0]}: {elem[1]}')"
   ]
  }
 ],
 "metadata": {
  "kernelspec": {
   "display_name": "Python 3",
   "language": "python",
   "name": "python3"
  },
  "language_info": {
   "codemirror_mode": {
    "name": "ipython",
    "version": 3
   },
   "file_extension": ".py",
   "mimetype": "text/x-python",
   "name": "python",
   "nbconvert_exporter": "python",
   "pygments_lexer": "ipython3",
   "version": "3.8.8"
  },
  "orig_nbformat": 4,
  "vscode": {
   "interpreter": {
    "hash": "8367bfebbc1fb4e6ea75e7d657d9e903573e4a3edf2756e614fc9b91cd6c9880"
   }
  }
 },
 "nbformat": 4,
 "nbformat_minor": 2
}
