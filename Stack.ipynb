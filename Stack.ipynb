{
 "cells": [
  {
   "attachments": {},
   "cell_type": "markdown",
   "metadata": {},
   "source": [
    "### Задача 11"
   ]
  },
  {
   "attachments": {},
   "cell_type": "markdown",
   "metadata": {},
   "source": [
    "Научитесь пользоваться стандартной структурой данных stack для целых чисел. Напишите программу, содержащую описание стека и моделирующую работу стека, реализовав все указанные здесь методы. Программа считывает последовательность команд и в зависимости от команды выполняет ту или иную операцию. После выполнения каждой команды программа должна вывести одну строчку. Возможные команды для программы:\n",
    "push n\n",
    "Добавить в стек число n (значение n задается после команды). Программа должна вывести ok.\n",
    "pop\n",
    "Удалить из стека последний элемент. Программа должна вывести его значение.\n",
    "back\n",
    "Программа должна вывести значение последнего элемента, не удаляя его из стека.\n",
    "size\n",
    "Программа должна вывести количество элементов в стеке.\n",
    "clear\n",
    "Программа должна очистить стек и вывести ok.\n",
    "exit\n",
    "Программа должна вывести bye и завершить работу.\n",
    "Перед исполнением операций back и pop программа должна проверять, содержится ли в стеке хотя бы один элемент. Если во входных данных встречается операция back или pop, и при этом стек пуст, то программа должна вместо числового значения вывести строку error."
   ]
  },
  {
   "cell_type": "code",
   "execution_count": 25,
   "metadata": {},
   "outputs": [
    {
     "name": "stdout",
     "output_type": "stream",
     "text": [
      "ok\n",
      "ok\n",
      "bye\n"
     ]
    }
   ],
   "source": [
    "stack = []\n",
    "\n",
    "working_flg = True\n",
    "\n",
    "while working_flg:\n",
    "\n",
    "    inp = input()\n",
    "\n",
    "    if 'push' in inp:\n",
    "        stack.append(int(inp[4:]))\n",
    "        print('ok')\n",
    "\n",
    "    elif inp == 'pop':\n",
    "        if len(stack) != 0:\n",
    "            print(stack.pop())\n",
    "        else:\n",
    "            print('error')\n",
    "    \n",
    "    elif inp == 'back':\n",
    "        if len(stack) != 0:\n",
    "            print(stack[-1])\n",
    "        else:\n",
    "            print('error')\n",
    "    \n",
    "    elif inp == 'size':\n",
    "        print(len(stack))\n",
    "\n",
    "    elif inp == 'clear':\n",
    "        stack.clear()\n",
    "        print('ok')\n",
    "\n",
    "    elif inp == 'exit':\n",
    "        print('bye')\n",
    "        working_flg = False"
   ]
  },
  {
   "attachments": {},
   "cell_type": "markdown",
   "metadata": {},
   "source": [
    "### Задача 12"
   ]
  },
  {
   "attachments": {},
   "cell_type": "markdown",
   "metadata": {},
   "source": [
    "Рассмотрим последовательность, состоящую из круглых, квадратных и фигурных скобок. Программа дожна определить, является ли данная скобочная последовательность правильной. Пустая последовательность явлется правильной. Если A – правильная, то последовательности (A), [A], {A} – правильные. Если A и B – правильные последовательности, то последовательность AB – правильная."
   ]
  },
  {
   "cell_type": "code",
   "execution_count": 47,
   "metadata": {},
   "outputs": [
    {
     "name": "stdout",
     "output_type": "stream",
     "text": [
      "no\n"
     ]
    }
   ],
   "source": [
    "stack = []\n",
    "all_right = True\n",
    "\n",
    "inp = input()\n",
    "\n",
    "for elem in inp:\n",
    "\n",
    "    if elem in ['(', '[', '{']:\n",
    "        stack.append(elem)\n",
    "        # print(elem)\n",
    "    \n",
    "    elif elem in [')', ']', '}']:\n",
    "\n",
    "        # print(elem)\n",
    "        \n",
    "        if len(stack) != 0:\n",
    "            prev = stack.pop()\n",
    "\n",
    "\n",
    "        else:\n",
    "            print('no')\n",
    "            all_right = False\n",
    "            break\n",
    "\n",
    "        if elem == ')' and prev == '(':\n",
    "            pass\n",
    "        elif elem == ']' and prev == '[':\n",
    "            pass\n",
    "        elif elem == '}' and prev == '{':\n",
    "            pass\n",
    "        else:\n",
    "            print('no')\n",
    "            all_right = False\n",
    "            break\n",
    "\n",
    "if (len(stack) == 0) & (all_right) :\n",
    "    print('yes')\n",
    "\n",
    "if (len(stack) != 0) & (all_right):\n",
    "    print('no')"
   ]
  },
  {
   "attachments": {},
   "cell_type": "markdown",
   "metadata": {},
   "source": [
    "### Задача 13"
   ]
  },
  {
   "attachments": {},
   "cell_type": "markdown",
   "metadata": {},
   "source": [
    "В постфиксной записи (или обратной польской записи) операция записывается после двух операндов. Например, сумма двух чисел A и B записывается как A B +. Запись B C + D * обозначает привычное нам (B + C) * D, а запись A B C + D * + означает A + (B + C) * D. Достоинство постфиксной записи в том, что она не требует скобок и дополнительных соглашений о приоритете операторов для своего чтения."
   ]
  },
  {
   "cell_type": "code",
   "execution_count": 2,
   "metadata": {},
   "outputs": [
    {
     "data": {
      "text/plain": [
       "-102"
      ]
     },
     "execution_count": 2,
     "metadata": {},
     "output_type": "execute_result"
    }
   ],
   "source": [
    "stack = []\n",
    "\n",
    "inp = input()\n",
    "\n",
    "for elem in inp:\n",
    "\n",
    "    if elem in ['0', '1', '2', '3', '4', '5', '6', '7', '8', '9']:\n",
    "        stack.append(int(elem))\n",
    "    \n",
    "    if elem in ['+', '-', '*']:\n",
    "        last  = stack.pop()\n",
    "        first = stack.pop()\n",
    "\n",
    "        if elem == '+':\n",
    "            stack.append(first + last)\n",
    "        if elem == '-':\n",
    "            stack.append(first - last)\n",
    "        if elem == '*':\n",
    "            stack.append(first * last)\n",
    "stack.pop()"
   ]
  },
  {
   "attachments": {},
   "cell_type": "markdown",
   "metadata": {},
   "source": [
    "### Задача 14"
   ]
  },
  {
   "attachments": {},
   "cell_type": "markdown",
   "metadata": {},
   "source": [
    "К тупику со стороны пути 1 (см. рисунок) подъехал поезд. Разрешается отцепить от поезда один или сразу несколько первых вагонов и завезти их в тупик (при желании, можно даже завезти в тупик сразу весь поезд). После этого часть из этих вагонов вывезти в сторону пути 2. После этого можно завезти в тупик еще несколько вагонов и снова часть оказавшихся вагонов вывезти в сторону пути 2. И так далее (так, что каждый вагон может лишь один раз заехать с пути 1 в тупик, а затем один раз выехать из тупика на путь 2). Заезжать в тупик с пути 2 или выезжать из тупика на путь 1 запрещается. Нельзя с пути 1 попасть на путь 2, не заезжая в тупик.\n",
    "\n",
    "Известно, в каком порядке изначально идут вагоны поезда. Требуется с помощью указанных операций сделать так, чтобы вагоны поезда шли по порядку (сначала первый, потом второй и т.д., считая от головы поезда, едущего по пути 2 в сторону от тупика). Напишите программу, определяющую, можно ли это сделать."
   ]
  },
  {
   "cell_type": "code",
   "execution_count": 32,
   "metadata": {},
   "outputs": [
    {
     "name": "stdout",
     "output_type": "stream",
     "text": [
      "NO\n"
     ]
    }
   ],
   "source": [
    "stack = []\n",
    "gone = 0\n",
    "\n",
    "N = int(input())\n",
    "inp = map(int, input().split(sep = ' '))\n",
    "\n",
    "for elem in inp:\n",
    "    \n",
    "    stack.append(elem)\n",
    "\n",
    "    while len(stack) != 0 and (stack[-1] == gone + 1) :\n",
    "        stack.pop()\n",
    "        gone += 1\n",
    "\n",
    "\n",
    "if len(stack) == 0:\n",
    "    print('YES')\n",
    "else:\n",
    "    print('NO')"
   ]
  },
  {
   "attachments": {},
   "cell_type": "markdown",
   "metadata": {},
   "source": [
    "### Задача 14"
   ]
  },
  {
   "attachments": {},
   "cell_type": "markdown",
   "metadata": {},
   "source": [
    "Лайнландия представляет из себя одномерный мир, являющийся прямой, на котором распологаются N городов, последовательно пронумерованных от 0 до N - 1 . Направление в сторону от первого города к нулевому названо западным, а в обратную — восточным.\n",
    "Когда в Лайнландии неожиданно начался кризис, все были жители мира стали испытывать глубокое смятение. По всей Лайнландии стали ходить слухи, что на востоке живётся лучше, чем на западе.\n",
    "Так и началось Великое Лайнландское переселение. Обитатели мира целыми городами отправились на восток, покинув родные улицы, и двигались до тех пор, пока не приходили в город, в котором средняя цена проживания была меньше, чем в родном.\n",
    "\n",
    "Для каждого города в порядке с нулевого по (N - 1)-ый выведите номер города, в который переселятся его изначальные жители. Если жители города не остановятся в каком-либо другом городе, отправившись в Восточное Бесконечное Ничто, выведите -1 ."
   ]
  },
  {
   "cell_type": "code",
   "execution_count": 56,
   "metadata": {},
   "outputs": [
    {
     "name": "stdout",
     "output_type": "stream",
     "text": [
      "[-1, 4, 3, 4, -1, 6, 9, 8, 9, -1]\n"
     ]
    }
   ],
   "source": [
    "stack = []\n",
    "\n",
    "N = int(input())\n",
    "inp = list(map(int, input().split(sep = ' ')))\n",
    "\n",
    "ans = [-1] * N\n",
    "\n",
    "for i, elem in enumerate(inp):\n",
    "\n",
    "    if len(stack) == 0:\n",
    "        stack.append( (i, elem) )\n",
    "    \n",
    "    else: \n",
    "        while len(stack) != 0 and elem < stack[-1][1]:\n",
    "\n",
    "            idx, _ = stack.pop()\n",
    "            ans[idx] = i\n",
    "\n",
    "        stack.append( (i, elem) )\n",
    "    \n",
    "for i in ans:\n",
    "    print(i, end = ' ')"
   ]
  }
 ],
 "metadata": {
  "kernelspec": {
   "display_name": "Python 3",
   "language": "python",
   "name": "python3"
  },
  "language_info": {
   "codemirror_mode": {
    "name": "ipython",
    "version": 3
   },
   "file_extension": ".py",
   "mimetype": "text/x-python",
   "name": "python",
   "nbconvert_exporter": "python",
   "pygments_lexer": "ipython3",
   "version": "3.10.10"
  },
  "orig_nbformat": 4,
  "vscode": {
   "interpreter": {
    "hash": "aee8b7b246df8f9039afb4144a1f6fd8d2ca17a180786b69acc140d282b71a49"
   }
  }
 },
 "nbformat": 4,
 "nbformat_minor": 2
}
