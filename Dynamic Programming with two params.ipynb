{
 "cells": [
  {
   "attachments": {},
   "cell_type": "markdown",
   "metadata": {},
   "source": [
    "### Задача 26"
   ]
  },
  {
   "cell_type": "code",
   "execution_count": 35,
   "metadata": {},
   "outputs": [],
   "source": [
    "with open(\"input_26.txt\", \"r\") as file:\n",
    "\n",
    "    INF = 10**5\n",
    "\n",
    "    inp = list(map( int, file.readline().split(sep = ' ')))\n",
    "    M = inp[1]\n",
    "    N = inp[0]\n",
    "\n",
    "    dp = []\n",
    "    a = []\n",
    "        \n",
    "    for i in range(N):\n",
    "    \n",
    "        a.append(\n",
    "                list( map( int, file.readline().split(sep = ' ')) )\n",
    "                )\n",
    "\n",
    "        dp.append([INF] * M)\n",
    "        for j in range(M):\n",
    "            \n",
    "            if i == 0 and j == 0:\n",
    "                dp[i][j] = a[i][j]\n",
    "            elif i != 0 and j == 0:\n",
    "                dp[i][j] = dp[i - 1][j] + a[i][j]\n",
    "            elif i == 0 and j!= 0:\n",
    "                dp[i][j] = dp[i][j - 1] + a[i][j]\n",
    "            else:\n",
    "                dp[i][j] = min(dp[i - 1][j], dp[i][j - 1]) + a[i][j]\n",
    "\n",
    "print(dp[-1][-1])"
   ]
  },
  {
   "attachments": {},
   "cell_type": "markdown",
   "metadata": {},
   "source": [
    "### Задача 27"
   ]
  },
  {
   "cell_type": "code",
   "execution_count": 93,
   "metadata": {},
   "outputs": [
    {
     "name": "stdout",
     "output_type": "stream",
     "text": [
      "74\n",
      "D D R R R R D D\n"
     ]
    }
   ],
   "source": [
    "with open(\"input_27.txt\", \"r\") as file:\n",
    "\n",
    "    TMP = 0\n",
    "\n",
    "    inp = list(map( int, file.readline().split(sep = ' ')))\n",
    "    M = inp[1]\n",
    "    N = inp[0]\n",
    "\n",
    "    dp = []\n",
    "    path = []\n",
    "    a = []\n",
    "        \n",
    "    for i in range(N):\n",
    "    \n",
    "        a.append(\n",
    "                list( map( int, file.readline().split(sep = ' ')) )\n",
    "                )\n",
    "\n",
    "        dp.append([TMP] * M)\n",
    "        path.append([0]*M)\n",
    "        for j in range(M):\n",
    "            \n",
    "            if i == 0 and j == 0:\n",
    "                dp[i][j] = a[i][j]\n",
    "                path[i][j] = ''\n",
    "            elif i != 0 and j == 0:\n",
    "                dp[i][j] = dp[i - 1][j] + a[i][j]\n",
    "                path[i][j] = path[i - 1][j] + ' D'\n",
    "            elif i == 0 and j!= 0:\n",
    "                dp[i][j] = dp[i][j - 1] + a[i][j]\n",
    "                path[i][j] = path[i][j-1] + ' R'\n",
    "\n",
    "            else:\n",
    "                elem_1, path_1 = dp[i - 1][j], path[i - 1][j]\n",
    "                elem_2, path_2 = dp[i][j - 1], path[i][j - 1]\n",
    "                if elem_1 >= elem_2:\n",
    "                    mx_elem = elem_1\n",
    "                    mx_path = path_1\n",
    "                    new_path = ' D'\n",
    "                else:\n",
    "                    mx_elem = elem_2\n",
    "                    mx_path = path_2\n",
    "                    new_path = ' R'\n",
    "                dp[i][j] = mx_elem  + a[i][j]\n",
    "                path[i][j] = mx_path + new_path\n",
    "                \n",
    "\n",
    "print(dp[-1][-1])\n",
    "print(path[-1][-1][1:])"
   ]
  },
  {
   "attachments": {},
   "cell_type": "markdown",
   "metadata": {},
   "source": [
    "### Задача 28"
   ]
  },
  {
   "cell_type": "code",
   "execution_count": 42,
   "metadata": {},
   "outputs": [
    {
     "name": "stdout",
     "output_type": "stream",
     "text": [
      "[1, 0, 0, 0]\n",
      "[0, 0, 1, 0]\n",
      "[0, 1, 0, 0]\n",
      "[0, 0, 0, 2]\n",
      "dp[-1][-1] = 2\n"
     ]
    }
   ],
   "source": [
    "inp = list(map(int, input().split(sep = ' ')))\n",
    "\n",
    "N, M = inp[0], inp[1]\n",
    "\n",
    "dp = []\n",
    "\n",
    "for i in range(N):\n",
    "    dp.append([0]*M)\n",
    "    for j in range(M):\n",
    "\n",
    "        if i == 0 and j == 0:\n",
    "            dp[i][j] = 1\n",
    "        if i == 0:\n",
    "            pass\n",
    "        elif j == 0:\n",
    "            pass\n",
    "        else:\n",
    "        \n",
    "            if i - 2 >= 0 and j - 1 >= 0 and dp[i -2][j - 1] > 0:\n",
    "                dp[i][j] += dp[i - 2][j - 1]\n",
    "            if i - 1 >= 0 and j - 2 >= 0 and dp[i -1][j -2] > 0:\n",
    "                dp[i][j] += dp[i - 1][j - 2]\n",
    "\n",
    "    print(dp[i])\n",
    "\n",
    "print(f'{dp[-1][-1] = }')"
   ]
  },
  {
   "attachments": {},
   "cell_type": "markdown",
   "metadata": {},
   "source": [
    "### Задача 29"
   ]
  },
  {
   "cell_type": "code",
   "execution_count": 179,
   "metadata": {},
   "outputs": [
    {
     "name": "stdout",
     "output_type": "stream",
     "text": [
      "1510\n",
      "1 10\n",
      "6 12 13 14 15 16 17 18 19 20\n"
     ]
    }
   ],
   "source": [
    "with open(\"input_29.txt\", \"r\") as file:\n",
    "\n",
    "    N = int(file.readline())\n",
    "    INF = 10**10\n",
    "\n",
    "    dp = []\n",
    "    coupons = []\n",
    "\n",
    "    for i in range(N):\n",
    "        dp.append([INF]*(N + 1))\n",
    "        coupons.append(['']*(N + 1))\n",
    "\n",
    "        inp = int(file.readline())\n",
    "\n",
    "        if i == 0:\n",
    "            if inp > 100:\n",
    "                dp[i][1] = inp\n",
    "            else:\n",
    "                dp[i][0] = inp\n",
    "        else:\n",
    "            for j in range(N):\n",
    "\n",
    "                if inp > 100:\n",
    "\n",
    "                    elem_1 = dp[i-1][j - 1] + inp\n",
    "                    elem_2 = dp[i-1][j + 1]\n",
    "\n",
    "                    if elem_1 <= elem_2: # buy on my own and copy coupon path\n",
    "                        dp[i][j] = elem_1\n",
    "                        coupons[i][j] = coupons[i-1][j -1] # don t use coupon\n",
    "                    else: # if use coupon\n",
    "                        dp[i][j] = elem_2\n",
    "                        coupons[i][j] = coupons[i-1][j + 1] + ' ' + str(i + 1) # use coupon at current day\n",
    "\n",
    "                else:\n",
    "\n",
    "                    elem_1 = dp[i - 1][j] + inp\n",
    "                    elem_2 = dp[i - 1][j + 1]\n",
    "\n",
    "                    if elem_1 <= elem_2:\n",
    "                        dp[i][j] = elem_1\n",
    "                        coupons[i][j] = coupons[i - 1][j]\n",
    "                    else:\n",
    "                        dp[i][j] = elem_2\n",
    "                        coupons[i][j] = coupons[i - 1][j + 1] + ' ' + str(i + 1)\n",
    "\n",
    "\n",
    "if N > 0:\n",
    "    m = min(dp[-1])\n",
    "    print(m)\n",
    "\n",
    "    # Find last entry\n",
    "    idx = dp[-1][::-1].index(m)\n",
    "    \n",
    "    q = coupons[-1][::-1][idx].split(sep = ' ')\n",
    "    q.remove('')\n",
    "    q = list(map(int, q))\n",
    "\n",
    "    print(N - idx, len(q))\n",
    "    if len(q) != 0: \n",
    "        print(*q)\n",
    "    # else:\n",
    "    #     print(0)\n",
    "else:\n",
    "    print(0)\n",
    "    print(0, 0)"
   ]
  },
  {
   "attachments": {},
   "cell_type": "markdown",
   "metadata": {},
   "source": [
    "### Задача 30"
   ]
  },
  {
   "cell_type": "code",
   "execution_count": 123,
   "metadata": {},
   "outputs": [
    {
     "name": "stdout",
     "output_type": "stream",
     "text": [
      "2 3\n"
     ]
    }
   ],
   "source": [
    "with open(\"input_30.txt\", \"r\") as file:\n",
    "\n",
    "    N = int(file.readline())\n",
    "    inp_n = file.readline().split(sep = ' ')\n",
    "    if '\\n' in inp_n:\n",
    "        inp_n.remove('\\n')\n",
    "    inp_n = list(map(int,inp_n ))\n",
    "\n",
    "    M = int(file.readline())\n",
    "    inp_m = file.readline().split(sep = ' ')\n",
    "    if '\\n' in inp_m:\n",
    "        inp_m.remove('\\n')\n",
    "    inp_m = list(map(int,inp_m ))\n",
    "\n",
    "    dp = []\n",
    "\n",
    "    for i in range(N + 1):\n",
    "\n",
    "        dp.append( [0] * (M+1) )\n",
    "\n",
    "        for j in range(M + 1):\n",
    "\n",
    "            if i == 0:\n",
    "                pass\n",
    "\n",
    "            elif j == 0:\n",
    "                pass\n",
    "            \n",
    "            else:\n",
    "                if inp_n[i - 1] == inp_m[j - 1]:\n",
    "                    dp[i][j] = dp[i - 1][j - 1] + 1\n",
    "                else:\n",
    "                    dp[i][j] = max(dp[i - 1][j], dp[i][j-1])\n",
    "\n",
    "\n",
    "mx = dp[-1][-1]\n",
    "res = []\n",
    "\n",
    "i = -1\n",
    "j = -1\n",
    "\n",
    "while mx > 0:\n",
    "\n",
    "    if dp[i][j] == dp[i - 1][j]:\n",
    "        i = i - 1\n",
    "    \n",
    "    elif dp[i][j] == dp[i][j - 1]:\n",
    "        j = j - 1\n",
    "    \n",
    "    else:\n",
    "        res.append(inp_n[i])\n",
    "        i -= 1\n",
    "        j -= 1\n",
    "        mx -=1\n",
    "    \n",
    "print(*res[::-1])"
   ]
  }
 ],
 "metadata": {
  "kernelspec": {
   "display_name": "Python 3",
   "language": "python",
   "name": "python3"
  },
  "language_info": {
   "codemirror_mode": {
    "name": "ipython",
    "version": 3
   },
   "file_extension": ".py",
   "mimetype": "text/x-python",
   "name": "python",
   "nbconvert_exporter": "python",
   "pygments_lexer": "ipython3",
   "version": "3.10.10"
  },
  "orig_nbformat": 4,
  "vscode": {
   "interpreter": {
    "hash": "aee8b7b246df8f9039afb4144a1f6fd8d2ca17a180786b69acc140d282b71a49"
   }
  }
 },
 "nbformat": 4,
 "nbformat_minor": 2
}
