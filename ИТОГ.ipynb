{
 "cells": [
  {
   "attachments": {},
   "cell_type": "markdown",
   "metadata": {},
   "source": [
    "### Задача 1"
   ]
  },
  {
   "cell_type": "code",
   "execution_count": 38,
   "metadata": {},
   "outputs": [
    {
     "name": "stdout",
     "output_type": "stream",
     "text": [
      "20\n",
      "15\n",
      "21\n"
     ]
    }
   ],
   "source": [
    "with open(\"input.txt\", \"r\") as file:\n",
    "    N = int(file.readline())\n",
    "\n",
    "    stack = []\n",
    "    total_cnt = {}\n",
    "\n",
    "    for _ in range(N):\n",
    "\n",
    "        inp = file.readline().split()\n",
    "\n",
    "        if inp[0] == 'add':\n",
    "     \n",
    "            stack += [int(inp[1])]\n",
    "            stack += [inp[2]]\n",
    "\n",
    "            if inp[2] not in total_cnt:\n",
    "                total_cnt[inp[2]] = int(inp[1])\n",
    "            else:\n",
    "                total_cnt[inp[2]] += int(inp[1])\n",
    "\n",
    "        elif inp[0] == 'get':\n",
    "\n",
    "            if inp[1] in total_cnt:\n",
    "                print(total_cnt[inp[1]])\n",
    "            else:\n",
    "                print(0)\n",
    "            \n",
    "        \n",
    "        elif inp[0] == 'delete':\n",
    "\n",
    "            cnt = int(inp[1])\n",
    "\n",
    "            while cnt > 0:\n",
    "                if stack[-2] > cnt:\n",
    "                    stack[-2] -= cnt\n",
    "                    total_cnt[ stack[-1] ] -= cnt\n",
    "                    cnt = 0\n",
    "                    \n",
    "                elif stack[-2] == cnt:\n",
    "                    total_cnt[ stack[-1] ] -= cnt\n",
    "                    del stack[-2:]\n",
    "                    cnt = 0\n",
    "                \n",
    "                elif stack[-2] < cnt:\n",
    "                    total_cnt[ stack[-1] ] -= stack[-2]\n",
    "                    cnt -= stack[-2]\n",
    "                    del stack[-2:]"
   ]
  },
  {
   "cell_type": "code",
   "execution_count": null,
   "metadata": {},
   "outputs": [],
   "source": []
  }
 ],
 "metadata": {
  "kernelspec": {
   "display_name": "Python 3",
   "language": "python",
   "name": "python3"
  },
  "language_info": {
   "codemirror_mode": {
    "name": "ipython",
    "version": 3
   },
   "file_extension": ".py",
   "mimetype": "text/x-python",
   "name": "python",
   "nbconvert_exporter": "python",
   "pygments_lexer": "ipython3",
   "version": "3.10.10"
  },
  "orig_nbformat": 4,
  "vscode": {
   "interpreter": {
    "hash": "8367bfebbc1fb4e6ea75e7d657d9e903573e4a3edf2756e614fc9b91cd6c9880"
   }
  }
 },
 "nbformat": 4,
 "nbformat_minor": 2
}
