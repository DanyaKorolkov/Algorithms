{
 "cells": [
  {
   "cell_type": "code",
   "execution_count": 1,
   "id": "2c609fa4",
   "metadata": {},
   "outputs": [
    {
     "name": "stdout",
     "output_type": "stream",
     "text": [
      "3.9.7\n"
     ]
    }
   ],
   "source": [
    "from platform import python_version\n",
    "\n",
    "print(python_version())"
   ]
  },
  {
   "cell_type": "code",
   "execution_count": 3,
   "id": "db20428f",
   "metadata": {},
   "outputs": [
    {
     "data": {
      "text/html": [
       "<style>.container { width:88% !important; }</style>"
      ],
      "text/plain": [
       "<IPython.core.display.HTML object>"
      ]
     },
     "metadata": {},
     "output_type": "display_data"
    }
   ],
   "source": [
    "from IPython.display import display, HTML\n",
    "display(HTML(\"<style>.container { width:88% !important; }</style>\"))"
   ]
  },
  {
   "cell_type": "markdown",
   "id": "a44f3b54",
   "metadata": {},
   "source": [
    "# Некоторые заметки по алгоритмам\n",
    "\n",
    "<blockquote>Отличная книга Адитья Бхаргава _\"Грокаем Алгоритмы\"_</blockquote>\n"
   ]
  },
  {
   "cell_type": "markdown",
   "id": "26f2a11e",
   "metadata": {},
   "source": [
    "## Сортировки"
   ]
  },
  {
   "cell_type": "markdown",
   "id": "3a416dbb",
   "metadata": {},
   "source": [
    "### Бинарный поиск (нахождение индекса элемента в массиве)\n",
    "\n",
    "- время работы: линейное $O(logn)$\n",
    "- работает только в отсортированом массиве\n",
    "\n",
    "\n",
    "Так, например, в игре с загадыванием числа от 1 до 100, можно выиграть не более чем за 7 ($ \\approx log_2(100)$) шагов\n",
    "\n",
    "Суть заключается в разделении массива на 2 части и рассматрением загаданного числа с медианой."
   ]
  },
  {
   "cell_type": "code",
   "execution_count": 60,
   "id": "85f94749",
   "metadata": {},
   "outputs": [],
   "source": [
    "def binary_search(arr, item):\n",
    "\n",
    "    low = 0\n",
    "    high = len(arr) - 1\n",
    "    \n",
    "    while low <= high:\n",
    "\n",
    "        mid = (low + high) // 2\n",
    "        guess = arr[mid]\n",
    "\n",
    "        if guess == item:\n",
    "            return mid\n",
    "\n",
    "        if guess > item:\n",
    "            high = mid - 1\n",
    "\n",
    "        else:\n",
    "            low = mid + 1\n",
    "\n",
    "\n",
    "    return None"
   ]
  },
  {
   "cell_type": "code",
   "execution_count": 61,
   "id": "14cdd459",
   "metadata": {},
   "outputs": [
    {
     "data": {
      "text/plain": [
       "10"
      ]
     },
     "execution_count": 61,
     "metadata": {},
     "output_type": "execute_result"
    }
   ],
   "source": [
    "myList = [0, 1, 2, 3, 4, 5, 6, 7, 8, 9, 10, 11, 12, 13, 14, 15]\n",
    "item   = 10\n",
    "\n",
    "binary_search(myList, item)"
   ]
  },
  {
   "cell_type": "markdown",
   "id": "35eb1df7",
   "metadata": {},
   "source": [
    "### Merge-sort"
   ]
  },
  {
   "cell_type": "markdown",
   "id": "35751fcd",
   "metadata": {},
   "source": [
    "### Quick-sort"
   ]
  },
  {
   "cell_type": "code",
   "execution_count": null,
   "id": "5ccee6f4",
   "metadata": {},
   "outputs": [],
   "source": []
  }
 ],
 "metadata": {
  "kernelspec": {
   "display_name": "Python 3 (ipykernel)",
   "language": "python",
   "name": "python3"
  },
  "language_info": {
   "codemirror_mode": {
    "name": "ipython",
    "version": 3
   },
   "file_extension": ".py",
   "mimetype": "text/x-python",
   "name": "python",
   "nbconvert_exporter": "python",
   "pygments_lexer": "ipython3",
   "version": "3.9.7"
  }
 },
 "nbformat": 4,
 "nbformat_minor": 5
}
