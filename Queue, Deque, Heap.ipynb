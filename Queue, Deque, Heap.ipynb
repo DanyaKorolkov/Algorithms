{
 "cells": [
  {
   "attachments": {},
   "cell_type": "markdown",
   "metadata": {},
   "source": [
    "### Задача 16"
   ]
  },
  {
   "cell_type": "code",
   "execution_count": 68,
   "metadata": {},
   "outputs": [
    {
     "name": "stdout",
     "output_type": "stream",
     "text": [
      "ok\n",
      "1\n",
      "error\n",
      "bye\n"
     ]
    }
   ],
   "source": [
    "class queue:\n",
    "    def __init__(self, queue_list: list = []) -> None:\n",
    "        self.queue = queue_list\n",
    "    \n",
    "    def push(self, n):\n",
    "        self.queue.append(n)\n",
    "\n",
    "    def pop(self):\n",
    "        if len(self.queue) == 0:\n",
    "            return('error')\n",
    "        else:\n",
    "            pop_elem = self.queue[0]\n",
    "            del self.queue[0]\n",
    "            return pop_elem\n",
    "\n",
    "    def front(self):\n",
    "        if len(self.queue) == 0:\n",
    "            return('error')\n",
    "        else:\n",
    "            return self.queue[0]\n",
    "\n",
    "    def size(self):\n",
    "        return len(self.queue)\n",
    "\n",
    "    def clear(self):\n",
    "        self.queue.clear()\n",
    "\n",
    "    def exit(self):\n",
    "        print('bye')\n",
    "\n",
    "\n",
    "\n",
    "my_queue = queue()\n",
    "\n",
    "inp = input().split(sep = ' ')\n",
    "\n",
    "while inp[0] != 'exit':\n",
    "    \n",
    "    if inp[0] == 'push':\n",
    "        my_queue.push(int(inp[1]))\n",
    "        print('ok')\n",
    "    elif inp[0] == 'pop':\n",
    "        print( my_queue.pop() )\n",
    "    elif inp[0] == 'front':\n",
    "        print( my_queue.front() )\n",
    "    elif inp[0] == 'size':\n",
    "        print( my_queue.size() )\n",
    "    elif inp[0] == 'clear':\n",
    "        my_queue.clear()\n",
    "        print('ok')\n",
    "        \n",
    "    inp = input().split(sep = ' ')\n",
    "my_queue.exit()"
   ]
  },
  {
   "attachments": {},
   "cell_type": "markdown",
   "metadata": {},
   "source": [
    "### Задача 17"
   ]
  },
  {
   "attachments": {},
   "cell_type": "markdown",
   "metadata": {},
   "source": [
    "В игре в пьяницу карточная колода раздается поровну двум игрокам. Далее они вскрывают по одной верхней карте, и тот, чья карта старше, забирает себе обе вскрытые карты, которые кладутся под низ его колоды. Тот, кто остается без карт – проигрывает. Для простоты будем считать, что все карты различны по номиналу, а также, что самая младшая карта побеждает самую старшую карту (\"шестерка берет туза\"). Игрок, который забирает себе карты, сначала кладет под низ своей колоды карту первого игрока, затем карту второго игрока (то есть карта второго игрока оказывается внизу колоды). Напишите программу, которая моделирует игру в пьяницу и определяет, кто выигрывает. В игре участвует 10 карт, имеющих значения от 0 до 9, большая карта побеждает меньшую, карта со значением 0 побеждает карту 9."
   ]
  },
  {
   "cell_type": "code",
   "execution_count": 109,
   "metadata": {},
   "outputs": [
    {
     "name": "stdout",
     "output_type": "stream",
     "text": [
      "second 23\n"
     ]
    }
   ],
   "source": [
    "class queue:\n",
    "    def __init__(self, queue_list: list = []) -> None:\n",
    "        self.queue = queue_list\n",
    "    \n",
    "    def push(self, n):\n",
    "        self.queue.append(n)\n",
    "\n",
    "    def pop(self):\n",
    "        if len(self.queue) == 0:\n",
    "            return('error')\n",
    "        else:\n",
    "            pop_elem = self.queue[0]\n",
    "            del self.queue[0]\n",
    "            return pop_elem\n",
    "\n",
    "    def front(self):\n",
    "        if len(self.queue) == 0:\n",
    "            return('error')\n",
    "        else:\n",
    "            return self.queue[0]\n",
    "\n",
    "    def size(self):\n",
    "        return len(self.queue)\n",
    "\n",
    "    def clear(self):\n",
    "        self.queue.clear()\n",
    "\n",
    "    def exit(self):\n",
    "        print('bye')\n",
    "\n",
    "with open(\"input.txt\", \"r\") as file:\n",
    "    cards_first  = file.readline().replace('\\n', '')\n",
    "    cards_second = file.readline()\n",
    "\n",
    "    cards_first  = cards_first[:9].split(sep = ' ')\n",
    "    cards_second = cards_second[:9].split(sep = ' ')\n",
    "\n",
    "    cards_first  = list(map(int, cards_first))\n",
    "    cards_second = list(map(int, cards_second))\n",
    "\n",
    "    cards_first  = queue(cards_first)\n",
    "    cards_second = queue(cards_second)\n",
    "\n",
    "\n",
    "counter = 0\n",
    "\n",
    "while True:\n",
    "\n",
    "    counter += 1\n",
    "\n",
    "    first  = cards_first.pop()\n",
    "    second = cards_second.pop()\n",
    "\n",
    "    if first == 0 and second == 9:\n",
    "        cards_first.push(first)\n",
    "        cards_first.push(second)\n",
    "    elif second == 0 and first == 9:\n",
    "        cards_second.push(first)\n",
    "        cards_second.push(second)\n",
    "    else:\n",
    "        if first > second:\n",
    "            cards_first.push(first)\n",
    "            cards_first.push(second)\n",
    "        else: \n",
    "            cards_second.push(first)\n",
    "            cards_second.push(second)\n",
    "\n",
    "    if cards_first.size() == 0:\n",
    "        print(f'second {counter}')\n",
    "        break\n",
    "    elif cards_second.size() == 0:\n",
    "        print(f'first {counter}')\n",
    "        break\n",
    "    if counter >= 10**6:\n",
    "        print('botva')\n",
    "        break"
   ]
  },
  {
   "attachments": {},
   "cell_type": "markdown",
   "metadata": {},
   "source": [
    "### Задача 18"
   ]
  },
  {
   "cell_type": "code",
   "execution_count": 9,
   "metadata": {},
   "outputs": [
    {
     "name": "stdout",
     "output_type": "stream",
     "text": [
      "ok\n",
      "1\n",
      "bye\n"
     ]
    }
   ],
   "source": [
    "deque = []\n",
    "\n",
    "inp = input().split(sep = ' ')\n",
    "\n",
    "while inp[0] != 'exit':\n",
    "\n",
    "    if inp[0] == 'push_front':\n",
    "        deque.insert(0, int(inp[1]))\n",
    "        print('ok')\n",
    "    \n",
    "    elif inp[0] == 'push_back':\n",
    "        deque.append(int(inp[1]))\n",
    "        print('ok')\n",
    "\n",
    "    elif inp[0] == 'pop_front':\n",
    "        if len(deque) != 0:\n",
    "            print(deque.pop(0))\n",
    "            \n",
    "        else:\n",
    "            print('error')\n",
    "\n",
    "    elif inp[0] == 'pop_back':\n",
    "        if len(deque) != 0:\n",
    "            print(deque.pop())\n",
    "        else:\n",
    "            print('error')\n",
    "\n",
    "    elif inp[0] == 'front':\n",
    "        if len(deque) != 0:\n",
    "            print(deque[0])\n",
    "        else:\n",
    "            print('error')\n",
    "    \n",
    "    elif inp[0] == 'back':\n",
    "        if len(deque) != 0:\n",
    "            print(deque[-1])\n",
    "        else:\n",
    "            print('error')\n",
    "\n",
    "    elif inp[0] == 'size':\n",
    "        print(len(deque))\n",
    "\n",
    "    elif inp[0] == 'clear':\n",
    "        deque.clear()\n",
    "        print('ok')\n",
    "\n",
    "    inp = input().split(sep = ' ')\n",
    "\n",
    "print('bye')"
   ]
  },
  {
   "attachments": {},
   "cell_type": "markdown",
   "metadata": {},
   "source": [
    "### Задача 19"
   ]
  },
  {
   "cell_type": "code",
   "execution_count": 4,
   "metadata": {},
   "outputs": [
    {
     "name": "stdout",
     "output_type": "stream",
     "text": [
      "10000\n"
     ]
    }
   ],
   "source": [
    "class heap():\n",
    "    def __init__(self) -> None:\n",
    "        self.heap = []\n",
    "    \n",
    "    def push(self, elem):\n",
    "\n",
    "        self.heap.append(elem)\n",
    "        pos = len(self.heap) - 1\n",
    "\n",
    "        while pos > 0 and self.heap[pos] > self.heap[(pos - 1) // 2]:\n",
    "            self.heap[pos], self.heap[(pos - 1) // 2] = self.heap[(pos - 1) // 2], self.heap[pos]\n",
    "            pos = (pos - 1) // 2\n",
    "    \n",
    "    def extract(self):\n",
    "\n",
    "        ans = self.heap[0]\n",
    "        self.heap[0] = self.heap[-1]\n",
    "        pos = 0\n",
    "\n",
    "        while pos*2 + 1 < len(self.heap) - 1:\n",
    "\n",
    "            min_son = pos*2 + 1\n",
    "            if self.heap[pos*2 + 2] > self.heap[min_son]:\n",
    "                min_son = pos*2 + 2\n",
    "            if self.heap[pos] < self.heap[min_son]:\n",
    "                self.heap[pos], self.heap[min_son] = self.heap[min_son], self.heap[pos]\n",
    "                pos = min_son\n",
    "            else:\n",
    "                break\n",
    "        self.heap.pop()\n",
    "        return(ans)\n",
    "\n",
    "\n",
    "N = int(input())\n",
    "\n",
    "my_heap = heap()\n",
    "\n",
    "for _ in range(N):\n",
    "\n",
    "    inp = list(map(int, input().split(sep = ' ')))\n",
    "    if inp[0] == 0:\n",
    "\n",
    "        my_heap.push(inp[1])\n",
    "\n",
    "    elif inp[0] == 1:\n",
    "\n",
    "        print(my_heap.extract())"
   ]
  },
  {
   "attachments": {},
   "cell_type": "markdown",
   "metadata": {},
   "source": [
    "### Задача 20"
   ]
  },
  {
   "cell_type": "code",
   "execution_count": 28,
   "metadata": {},
   "outputs": [
    {
     "name": "stdout",
     "output_type": "stream",
     "text": [
      "1 3 "
     ]
    }
   ],
   "source": [
    "class heap():\n",
    "    def __init__(self) -> None:\n",
    "        self.heap = []\n",
    "    \n",
    "    def push(self, elem):\n",
    "\n",
    "        self.heap.append(elem)\n",
    "        pos = len(self.heap) - 1\n",
    "\n",
    "        while pos > 0 and self.heap[pos] > self.heap[(pos - 1) // 2]:\n",
    "            self.heap[pos], self.heap[(pos - 1) // 2] = self.heap[(pos - 1) // 2], self.heap[pos]\n",
    "            pos = (pos - 1) // 2\n",
    "    \n",
    "    def extract(self):\n",
    "\n",
    "        ans = self.heap[0]\n",
    "        self.heap[0] = self.heap[-1]\n",
    "        pos = 0\n",
    "\n",
    "        while pos*2 + 1 < len(self.heap) - 1:\n",
    "\n",
    "            min_son = pos*2 + 1\n",
    "            if self.heap[pos*2 + 2] > self.heap[min_son]:\n",
    "                min_son = pos*2 + 2\n",
    "            if self.heap[pos] < self.heap[min_son]:\n",
    "                self.heap[pos], self.heap[min_son] = self.heap[min_son], self.heap[pos]\n",
    "                pos = min_son\n",
    "            else:\n",
    "                break\n",
    "        self.heap.pop()\n",
    "        return(ans)\n",
    "\n",
    "\n",
    "N = int(input())\n",
    "inp = list(map(int, input().split(sep = ' ')))\n",
    "\n",
    "my_heap = heap()\n",
    "\n",
    "lst = []\n",
    "\n",
    "for i in range(N):\n",
    "    my_heap.push( inp[i] )\n",
    "\n",
    "for i in range(N):\n",
    "    lst.append(my_heap.extract())\n",
    "\n",
    "for i in range(N):\n",
    "    print(lst[N - i - 1], end = ' ')"
   ]
  },
  {
   "cell_type": "code",
   "execution_count": null,
   "metadata": {},
   "outputs": [],
   "source": []
  }
 ],
 "metadata": {
  "kernelspec": {
   "display_name": "Python 3",
   "language": "python",
   "name": "python3"
  },
  "language_info": {
   "codemirror_mode": {
    "name": "ipython",
    "version": 3
   },
   "file_extension": ".py",
   "mimetype": "text/x-python",
   "name": "python",
   "nbconvert_exporter": "python",
   "pygments_lexer": "ipython3",
   "version": "3.10.10"
  },
  "orig_nbformat": 4,
  "vscode": {
   "interpreter": {
    "hash": "aee8b7b246df8f9039afb4144a1f6fd8d2ca17a180786b69acc140d282b71a49"
   }
  }
 },
 "nbformat": 4,
 "nbformat_minor": 2
}
