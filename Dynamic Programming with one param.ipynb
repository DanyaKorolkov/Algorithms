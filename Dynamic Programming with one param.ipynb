{
 "cells": [
  {
   "attachments": {},
   "cell_type": "markdown",
   "metadata": {},
   "source": [
    "### Задача 21"
   ]
  },
  {
   "attachments": {},
   "cell_type": "markdown",
   "metadata": {},
   "source": [
    "По данному числу N определите количество последовательностей из нулей и единиц длины N, в которых никакие три единицы не стоят рядом."
   ]
  },
  {
   "attachments": {},
   "cell_type": "markdown",
   "metadata": {},
   "source": [
    "5: 11100\n",
    "\n",
    "n = 0: 0\n",
    "n = 1: 2 (1 0)\n",
    "n = 2: 4 (00 01 10 11)                                                     // how_many_ones_at_end_prev = 1\n",
    "n = 3: (2^3 - 1) = 7 (000 001 010 011 100 101 110)                         // how_many_ones_at_end_prev = 1\n",
    "n = 4: (всего 2^4 ): _ _ _ _ = (ans[n-1] * 2 - how_many_ones_at_end_prev) = 13  // how_many_ones_at_end_prev *= 2 (all 16 variants without 1110 0111 1111: that's it 0000 0001 0010 0011 0100 0101 0110 1000 1001 1010 1011 1100 1101)\n",
    "n = 5: _ _ _ _ _ "
   ]
  },
  {
   "cell_type": "code",
   "execution_count": 23,
   "metadata": {},
   "outputs": [
    {
     "name": "stdout",
     "output_type": "stream",
     "text": [
      "81\n"
     ]
    }
   ],
   "source": [
    "N = int(input())\n",
    "\n",
    "ans = [0, 2, 4, 7]\n",
    "\n",
    "for i in range(4, N + 1):\n",
    "    ans.append(ans[-1] + ans[-2] + ans[-3])\n",
    "\n",
    "print(ans[N])"
   ]
  },
  {
   "attachments": {},
   "cell_type": "markdown",
   "metadata": {},
   "source": [
    "## Задача 22"
   ]
  },
  {
   "attachments": {},
   "cell_type": "markdown",
   "metadata": {},
   "source": [
    "У одного из студентов в комнате живёт кузнечик, который очень любит прыгать по клетчатой одномерной доске. Длина доски — N клеток. К его сожалению, он умеет прыгать только на 1, 2, …, k клеток вперёд.\n",
    "Однажды студентам стало интересно, сколькими способами кузнечик может допрыгать из первой клетки до последней. Помогите им ответить на этот вопрос."
   ]
  },
  {
   "cell_type": "code",
   "execution_count": 46,
   "metadata": {},
   "outputs": [
    {
     "name": "stdout",
     "output_type": "stream",
     "text": [
      "21\n"
     ]
    }
   ],
   "source": [
    "inp = list(map(int, input().split(sep = ' ')))\n",
    "\n",
    "N = inp[0]\n",
    "k = inp[1]\n",
    "\n",
    "ans = [0, 0, 0, 0, 0, 0, 0, 0, 0, 0, 0, 1, 1]\n",
    "\n",
    "for i in range(3, N + 1):\n",
    "\n",
    "    ans.append( sum(ans[-k:]) )\n",
    "\n",
    "print(ans[10 + N])"
   ]
  },
  {
   "attachments": {},
   "cell_type": "markdown",
   "metadata": {},
   "source": [
    "## Задача 23"
   ]
  },
  {
   "attachments": {},
   "cell_type": "markdown",
   "metadata": {},
   "source": [
    "Имеется калькулятор, который выполняет следующие операции:\n",
    "- умножить число X на 2;\n",
    "- умножить число X на 3;\n",
    "- прибавить к числу X единицу.\n",
    "\n",
    "Определите, какое наименьшее количество операций требуется, чтобы получить из числа 1 число N."
   ]
  },
  {
   "cell_type": "code",
   "execution_count": 112,
   "metadata": {},
   "outputs": [
    {
     "name": "stdout",
     "output_type": "stream",
     "text": [
      "3\n",
      "1 3 4 5\n"
     ]
    }
   ],
   "source": [
    "N = int(input())\n",
    "\n",
    "if N == 1:\n",
    "    print(0)\n",
    "    print(1)\n",
    "\n",
    "elif N > 1 and N <= 3:\n",
    "\n",
    "    print(1)\n",
    "    print(1, N)\n",
    "\n",
    "else:\n",
    "    \n",
    "\n",
    "    nums = list(range(N + 1))\n",
    "    dp = [0] * (N + 1)\n",
    "    prev = [0] * (N + 1)\n",
    "\n",
    "    dp[1] = dp[2] = dp[3] = 1\n",
    "    prev[1] = prev[2] = prev[3] = 1\n",
    "\n",
    "    for i in range(4, N + 1):\n",
    "\n",
    "        minus_dp  = dp[nums[i - 1]] + 1\n",
    "        minus_pos = nums[i - 1]\n",
    "\n",
    "        if nums[i] % 2 == 0:\n",
    "\n",
    "            mult_2_dp  = dp[nums[i] // 2] + 1\n",
    "            mult_2_pos = nums[i] // 2\n",
    "\n",
    "        else:\n",
    "            mult_2_dp = N\n",
    "            mult_2_pos = 0\n",
    "\n",
    "        if nums[i] % 3 == 0:\n",
    "\n",
    "            mult_3_dp  = dp[nums[i] // 3] + 1\n",
    "            mult_3_pos = nums[i] // 3\n",
    "\n",
    "        else:\n",
    "            mult_3_dp = N\n",
    "            mult_3_pos = 0\n",
    "\n",
    "        m = min(minus_dp, mult_2_dp, mult_3_dp)\n",
    "        idx = [minus_dp, mult_2_dp, mult_3_dp].index(m)\n",
    "        p = [minus_pos, mult_2_pos, mult_3_pos][idx]\n",
    "\n",
    "        dp[i]   = m\n",
    "        prev[i] = p\n",
    "\n",
    "        # print(f'{nums = }')\n",
    "        # print(f'{dp =   }')\n",
    "        # print(f'{prev = }\\n')\n",
    "\n",
    "\n",
    "\n",
    "    p = N\n",
    "    lst = [N]\n",
    "    print(dp[N])\n",
    "    while p != 1:\n",
    "        lst.append(prev[p])\n",
    "        p = prev[p]\n",
    "    print(*lst[::-1])"
   ]
  },
  {
   "attachments": {},
   "cell_type": "markdown",
   "metadata": {},
   "source": [
    "## Задача 24"
   ]
  },
  {
   "attachments": {},
   "cell_type": "markdown",
   "metadata": {},
   "source": [
    "За билетами на премьеру нового мюзикла выстроилась очередь из N человек, каждый из которых хочет купить 1 билет. На всю очередь работала только одна касса, поэтому продажа билетов шла очень медленно, приводя «постояльцев» очереди в отчаяние. Самые сообразительные быстро заметили, что, как правило, несколько билетов в одни руки кассир продаёт быстрее, чем когда эти же билеты продаются по одному. Поэтому они предложили нескольким подряд стоящим людям отдавать деньги первому из них, чтобы он купил билеты на всех.\n",
    "Однако для борьбы со спекулянтами кассир продавала не более 3-х билетов в одни руки, поэтому договориться таким образом между собой могли лишь 2 или 3 подряд стоящих человека.\n",
    "Известно, что на продажу i-му человеку из очереди одного билета кассир тратит Ai секунд, на продажу двух билетов — Bi секунд, трех билетов — Ci секунд. Напишите программу, которая подсчитает минимальное время, за которое могли быть обслужены все покупатели.\n",
    "Обратите внимание, что билеты на группу объединившихся людей всегда покупает первый из них. Также никто в целях ускорения не покупает лишних билетов (то есть билетов, которые никому не нужны)."
   ]
  },
  {
   "cell_type": "code",
   "execution_count": null,
   "metadata": {},
   "outputs": [],
   "source": [
    "N = int(input())\n",
    "dp = [0] * N\n",
    "\n",
    "A = [0] * N\n",
    "B = [0] * N\n",
    "C = [0] * N\n",
    "\n",
    "A[0], B[0], C[0] = map(int, input().split())\n",
    "\n",
    "dp[0] = A[0]\n",
    "\n",
    "if N >= 2:\n",
    "\n",
    "    A[1], B[1], C[1] = map(int, input().split())\n",
    "    dp[1] = min(A[1] + A[0], B[0])\n",
    "\n",
    "if N >= 3:\n",
    "\n",
    "    A[2], B[2], C[2] = map(int, input().split())\n",
    "    dp[2] = min(A[0] + A[1] + A[2], C[0], A[0] + B[1], B[0] + A[2])\n",
    "\n",
    "if N >= 4:\n",
    "\n",
    "    for i in range(3, N):\n",
    "\n",
    "        A[i], B[i], C[i] = map(int, input().split())\n",
    "        dp[i] = min(dp[i - 1] + A[i], dp[i - 2] + B[i - 1], dp[i - 3] + C[i - 2])\n",
    "\n",
    "print(dp[-1])"
   ]
  },
  {
   "attachments": {},
   "cell_type": "markdown",
   "metadata": {},
   "source": [
    "## Задача 25"
   ]
  },
  {
   "cell_type": "markdown",
   "metadata": {},
   "source": [
    "В дощечке в один ряд вбиты гвоздики. Любые два гвоздика можно соединить ниточкой. Требуется соединить некоторые пары гвоздиков ниточками так, чтобы к каждому гвоздику была привязана хотя бы одна ниточка, а суммарная длина всех ниточек была минимальна."
   ]
  },
  {
   "attachments": {},
   "cell_type": "markdown",
   "metadata": {},
   "source": [
    "3 4 6 12 13 14"
   ]
  },
  {
   "cell_type": "code",
   "execution_count": 204,
   "metadata": {},
   "outputs": [
    {
     "name": "stdout",
     "output_type": "stream",
     "text": [
      "4400\n"
     ]
    }
   ],
   "source": [
    "N = int(input())\n",
    "\n",
    "nums = [0]\n",
    "\n",
    "nums += input().split(sep = ' ')\n",
    "if '' in nums:\n",
    "    nums.remove('')\n",
    "nums = sorted(list(map(int, nums)))\n",
    "\n",
    "dp = [0] * (N + 1)\n",
    "dp[1] = 0\n",
    "dp[2] = nums[2] - nums[1]\n",
    "\n",
    "if N >=3:\n",
    "    dp[3] = dp[2] + nums[3] - nums[2]\n",
    "\n",
    "    for i in range(4, N + 1):\n",
    "        dp[i] = min(dp[i - 1], dp[i - 2]) + nums[i] - nums[i - 1]\n",
    "\n",
    "\n",
    "\n",
    "print(dp[N])"
   ]
  }
 ],
 "metadata": {
  "kernelspec": {
   "display_name": "Python 3",
   "language": "python",
   "name": "python3"
  },
  "language_info": {
   "codemirror_mode": {
    "name": "ipython",
    "version": 3
   },
   "file_extension": ".py",
   "mimetype": "text/x-python",
   "name": "python",
   "nbconvert_exporter": "python",
   "pygments_lexer": "ipython3",
   "version": "3.10.10"
  },
  "orig_nbformat": 4,
  "vscode": {
   "interpreter": {
    "hash": "aee8b7b246df8f9039afb4144a1f6fd8d2ca17a180786b69acc140d282b71a49"
   }
  }
 },
 "nbformat": 4,
 "nbformat_minor": 2
}
